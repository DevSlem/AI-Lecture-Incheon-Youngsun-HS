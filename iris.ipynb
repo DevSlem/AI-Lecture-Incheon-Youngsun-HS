{
  "cells": [
    {
      "cell_type": "markdown",
      "metadata": {},
      "source": [
        "# Iris 데이터 분류"
      ]
    },
    {
      "cell_type": "markdown",
      "metadata": {},
      "source": [
        "## 1. Explore Iris Dataset"
      ]
    },
    {
      "cell_type": "code",
      "execution_count": null,
      "metadata": {
        "id": "0UEEpQr9PPJo"
      },
      "outputs": [],
      "source": [
        "import numpy as np\n",
        "import pandas as pd\n",
        "from sklearn.datasets import load_iris\n",
        "\n",
        "# Iris 데이터셋 로드\n",
        "iris = load_iris()\n",
        "\n",
        "# 데이터를 DataFrame으로 변환\n",
        "data = pd.DataFrame(data=np.c_[iris['data'], iris['target']], columns=iris['feature_names'] + ['target'])\n"
      ]
    },
    {
      "cell_type": "code",
      "execution_count": null,
      "metadata": {
        "colab": {
          "base_uri": "https://localhost:8080/"
        },
        "id": "7EHsO34FTtRS",
        "outputId": "c73d471a-bf12-4d2d-cbf5-db512551ea28"
      },
      "outputs": [],
      "source": [
        "# 데이터의 구조와 처음 5개 샘플 출력\n",
        "print(\"데이터 구조:\")\n",
        "data.head()\n"
      ]
    },
    {
      "cell_type": "code",
      "execution_count": null,
      "metadata": {
        "colab": {
          "base_uri": "https://localhost:8080/"
        },
        "id": "1oWPbTcFTyVy",
        "outputId": "89785571-9126-492e-d462-62bd290d6356"
      },
      "outputs": [],
      "source": [
        "# 데이터의 기본 통계 정보 출력\n",
        "print(\"데이터 기본 통계 정보:\")\n",
        "data.describe()"
      ]
    },
    {
      "cell_type": "code",
      "execution_count": null,
      "metadata": {
        "colab": {
          "base_uri": "https://localhost:8080/"
        },
        "id": "mqaadPy_Ty7A",
        "outputId": "f9e49619-b1e8-4d97-a2a0-ba77e09c25dc"
      },
      "outputs": [],
      "source": [
        "# 클래스(붓꽃의 종류)별 데이터 개수 출력\n",
        "print(\"클래스별 데이터 개수:\")\n",
        "data['target'].value_counts()\n"
      ]
    },
    {
      "cell_type": "code",
      "execution_count": null,
      "metadata": {
        "colab": {
          "base_uri": "https://localhost:8080/"
        },
        "id": "-7-4Nn5WT1VE",
        "outputId": "e714753c-3399-4a4f-b9ad-f39e4f83d266"
      },
      "outputs": [],
      "source": [
        "# 각 특성별 평균값 출력\n",
        "print(\"각 특성별 평균값:\")\n",
        "data.groupby('target').mean()"
      ]
    },
    {
      "cell_type": "markdown",
      "metadata": {},
      "source": [
        "### 실습문제 1"
      ]
    },
    {
      "cell_type": "markdown",
      "metadata": {},
      "source": [
        "아래와 같은 코드를 통해 iris 데이터에 대해 그래프를 출력할 수 있다. 구체적으로, 아래 그래프는 iris 데이터의 sepal length와 sepal width를 x축과 y축으로 하여, 각 데이터의 종을 색으로 표시한 그래프이다:"
      ]
    },
    {
      "cell_type": "code",
      "execution_count": null,
      "metadata": {},
      "outputs": [],
      "source": [
        "data.plot(kind='scatter', x='sepal length (cm)', y='sepal width (cm)', c='target')"
      ]
    },
    {
      "cell_type": "markdown",
      "metadata": {},
      "source": [
        "이번에는 x축을 petal length로, y축을 petal width로 하여, 각 데이터의 종을 색으로 표시하는 그래프를 출력해보자:"
      ]
    },
    {
      "cell_type": "code",
      "execution_count": null,
      "metadata": {},
      "outputs": [],
      "source": [
        "# 아래 코드 수정\n",
        "data.plot(kind=, x=, y=, c=)"
      ]
    },
    {
      "cell_type": "markdown",
      "metadata": {},
      "source": [
        "## 2. Decision Tree Classifier"
      ]
    },
    {
      "cell_type": "code",
      "execution_count": null,
      "metadata": {
        "colab": {
          "base_uri": "https://localhost:8080/"
        },
        "id": "KsaobvYfQTyl",
        "outputId": "4d1aa1f4-3408-4f34-8640-246485bf72ab"
      },
      "outputs": [],
      "source": [
        "from sklearn.model_selection import train_test_split\n",
        "from sklearn.tree import DecisionTreeClassifier\n",
        "from sklearn.metrics import accuracy_score\n",
        "X = iris.data\n",
        "y = iris.target\n",
        "\n",
        "# 학습 데이터와 테스트 데이터로 분리 (80% 학습, 20% 테스트)\n",
        "X_train, X_test, y_train, y_test = train_test_split(X, y, test_size=0.2, random_state=42)\n",
        "\n",
        "# Decision Tree Classifier 모델 생성 및 학습\n",
        "clf = DecisionTreeClassifier(random_state=42)\n",
        "clf.fit(X_train, y_train)\n",
        "\n",
        "# 테스트 데이터에 대한 예측 수행\n",
        "y_pred = clf.predict(X_test)\n",
        "\n",
        "# 모델의 정확도 평가\n",
        "accuracy = accuracy_score(y_test, y_pred)\n",
        "print(f\"Model accuracy: {accuracy:.2f}\")\n"
      ]
    },
    {
      "cell_type": "code",
      "execution_count": null,
      "metadata": {
        "colab": {
          "base_uri": "https://localhost:8080/",
          "height": 653
        },
        "id": "NBi3-E3DU9ni",
        "outputId": "b627b405-a3f2-4e56-87f0-28ca00384179"
      },
      "outputs": [],
      "source": [
        "\n",
        "# 트리 구조 시각화 (선택사항)\n",
        "from sklearn.tree import plot_tree\n",
        "import matplotlib.pyplot as plt\n",
        "\n",
        "plt.figure(figsize=(12, 8))\n",
        "plot_tree(clf, filled=True, feature_names=iris.feature_names, class_names=iris.target_names)\n",
        "plt.show()"
      ]
    },
    {
      "cell_type": "code",
      "execution_count": null,
      "metadata": {
        "colab": {
          "base_uri": "https://localhost:8080/",
          "height": 670
        },
        "id": "5nSCLbqRQj9w",
        "outputId": "aa4ba4f4-2f4b-432e-9900-e53bddea22b3"
      },
      "outputs": [],
      "source": [
        "# overfitting 방지용 tree의 max depth 정함\n",
        "X = iris.data\n",
        "y = iris.target\n",
        "\n",
        "# 학습 데이터와 테스트 데이터로 분리 (80% 학습, 20% 테스트)\n",
        "X_train, X_test, y_train, y_test = train_test_split(X, y, test_size=0.2, random_state=42)\n",
        "\n",
        "# Decision Tree Classifier 모델 생성 및 학습\n",
        "clf = DecisionTreeClassifier(random_state=42, max_depth=2)\n",
        "clf.fit(X_train, y_train)\n",
        "\n",
        "# 테스트 데이터에 대한 예측 수행\n",
        "y_pred = clf.predict(X_test)\n",
        "\n",
        "# 모델의 정확도 평가\n",
        "accuracy = accuracy_score(y_test, y_pred)\n",
        "print(f\"Model accuracy: {accuracy:.2f}\")\n",
        "\n",
        "# 트리 구조 시각화 (선택사항)\n",
        "from sklearn.tree import plot_tree\n",
        "import matplotlib.pyplot as plt\n",
        "\n",
        "plt.figure(figsize=(12, 8))\n",
        "plot_tree(clf, filled=True, feature_names=iris.feature_names, class_names=iris.target_names)\n",
        "plt.show()"
      ]
    }
  ],
  "metadata": {
    "colab": {
      "provenance": []
    },
    "kernelspec": {
      "display_name": "Python 3",
      "name": "python3"
    },
    "language_info": {
      "codemirror_mode": {
        "name": "ipython",
        "version": 3
      },
      "file_extension": ".py",
      "mimetype": "text/x-python",
      "name": "python",
      "nbconvert_exporter": "python",
      "pygments_lexer": "ipython3",
      "version": "3.11.4"
    }
  },
  "nbformat": 4,
  "nbformat_minor": 0
}

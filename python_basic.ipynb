{
  "cells": [
    {
      "cell_type": "markdown",
      "metadata": {},
      "source": [
        "# 파이썬 기초"
      ]
    },
    {
      "cell_type": "markdown",
      "metadata": {},
      "source": [
        "## 1. 연산자"
      ]
    },
    {
      "cell_type": "code",
      "execution_count": 59,
      "metadata": {
        "colab": {
          "base_uri": "https://localhost:8080/"
        },
        "id": "c0XGH5LPA9GR",
        "outputId": "8fc818a2-82d5-4dc5-d4e0-6605bc8304d2"
      },
      "outputs": [
        {
          "name": "stdout",
          "output_type": "stream",
          "text": [
            "5\n"
          ]
        }
      ],
      "source": [
        "a=3\n",
        "b=2\n",
        "print(a+b)"
      ]
    },
    {
      "cell_type": "code",
      "execution_count": 60,
      "metadata": {},
      "outputs": [
        {
          "data": {
            "text/plain": [
              "5"
            ]
          },
          "execution_count": 60,
          "metadata": {},
          "output_type": "execute_result"
        }
      ],
      "source": [
        "# 코드 블락 마지막 줄에서는 출력시 print() 함수를 사용하지 않아도 된다.\n",
        "a + b"
      ]
    },
    {
      "cell_type": "code",
      "execution_count": 61,
      "metadata": {
        "colab": {
          "base_uri": "https://localhost:8080/"
        },
        "id": "QU9V1441-PN5",
        "outputId": "ecc428c9-4407-4a31-8489-08499e178322"
      },
      "outputs": [
        {
          "name": "stdout",
          "output_type": "stream",
          "text": [
            "5\n",
            "1\n",
            "6\n",
            "1.5\n",
            "True\n",
            "False\n",
            "True\n",
            "False\n",
            "False\n",
            "True\n"
          ]
        }
      ],
      "source": [
        "a=3\n",
        "b=2\n",
        "# 사칙 연산\n",
        "print(a+b)\n",
        "print(a-b)\n",
        "print(a*b)\n",
        "print(a/b)\n",
        "# 비교 연산\n",
        "print(a>b)\n",
        "print(a<b)\n",
        "print(a>=b)\n",
        "print(a<=b)\n",
        "print(a==b)\n",
        "print(a!=b)"
      ]
    },
    {
      "cell_type": "markdown",
      "metadata": {},
      "source": [
        "### 실습문제 1"
      ]
    },
    {
      "cell_type": "markdown",
      "metadata": {},
      "source": [
        "아래와 같은 함수가 있다:\n",
        "\n",
        "$$\n",
        "y = 3x^2 + 5x + \\frac{3}{x} + 7\n",
        "$$\n",
        "\n",
        "$x = 2$일 때 파이썬 코드를 사용해 $y$의 값을 구하고 출력하자."
      ]
    },
    {
      "cell_type": "code",
      "execution_count": null,
      "metadata": {},
      "outputs": [],
      "source": [
        "# x값 대입\n",
        "x = \n",
        "# y값을 변수 x를 사용해 계산\n",
        "y = \n",
        "# 출력\n",
        "y"
      ]
    },
    {
      "cell_type": "markdown",
      "metadata": {},
      "source": [
        "## 2. 배열과 행렬"
      ]
    },
    {
      "cell_type": "code",
      "execution_count": 62,
      "metadata": {
        "colab": {
          "base_uri": "https://localhost:8080/"
        },
        "id": "i6iewsB5-hXR",
        "outputId": "7fd155f7-0ff0-45b1-9ed9-4cd07fd55ddd"
      },
      "outputs": [
        {
          "name": "stdout",
          "output_type": "stream",
          "text": [
            "[1, 2, 3]\n",
            "1\n",
            "3\n"
          ]
        }
      ],
      "source": [
        "# 리스트\n",
        "a=[1, 2, 3]\n",
        "print(a)\n",
        "print(a[0])\n",
        "print(len(a))"
      ]
    },
    {
      "cell_type": "code",
      "execution_count": 63,
      "metadata": {},
      "outputs": [
        {
          "data": {
            "text/plain": [
              "array([5, 7, 9])"
            ]
          },
          "execution_count": 63,
          "metadata": {},
          "output_type": "execute_result"
        }
      ],
      "source": [
        "import numpy as np\n",
        "\n",
        "# 리스트를 numpy 배열로 변환해 사용하면 계산이 편리해진다.\n",
        "# 아래는 두 1차원 배열 (혹은 벡터)의 덧셈을 보여준다.\n",
        "a = np.array([1, 2, 3])\n",
        "b = np.array([4, 5, 6])\n",
        "a + b"
      ]
    },
    {
      "cell_type": "code",
      "execution_count": 64,
      "metadata": {},
      "outputs": [
        {
          "data": {
            "text/plain": [
              "array([[ 6,  8],\n",
              "       [10, 12]])"
            ]
          },
          "execution_count": 64,
          "metadata": {},
          "output_type": "execute_result"
        }
      ],
      "source": [
        "# 행렬은 2차원 배열로 표현한다.\n",
        "# 아래는 두 행렬의 덧셈을 보여준다.\n",
        "a = np.array([[1, 2],\n",
        "              [3, 4]])\n",
        "b = np.array([[5, 6],\n",
        "              [7, 8]])\n",
        "a + b"
      ]
    },
    {
      "cell_type": "markdown",
      "metadata": {},
      "source": [
        "### 실습문제 2"
      ]
    },
    {
      "cell_type": "markdown",
      "metadata": {},
      "source": [
        "일반적으로 2차원 평면에서 어떤 점 (혹은 벡터)를 이동, 회전, 스케일링 등을 수행할 때는 어파인 변환 행렬을 사용한다. 그 이유는 서로 다른 연산들을 행렬곱이라는 일관된 연산으로 수행할 수 있기 때문이다. 아래는 어떠한 2차원 벡터를 $x$축 방향으로 $t_x$만큼, $y$축 방향으로 $t_y$만큼 이동시키는 어파인 변환 행렬이다:\n",
        "\n",
        "$$\n",
        "\\begin{bmatrix}\n",
        "1 & 0 & t_x \\\\\n",
        "0 & 1 & t_y \\\\\n",
        "0 & 0 & 1\n",
        "\\end{bmatrix}\n",
        "$$\n",
        "\n",
        "또한, 반시계 방향으로 $\\theta$만큼 회전시키는 어파인 변환 행렬은 아래와 같다:\n",
        "\n",
        "$$\n",
        "\\begin{bmatrix}\n",
        "\\cos(\\theta) & -\\sin(\\theta) & 0 \\\\\n",
        "\\sin(\\theta) & \\cos(\\theta) & 0 \\\\\n",
        "0 & 0 & 1\n",
        "\\end{bmatrix}\n",
        "$$\n",
        "\n",
        "2차원 평면에서 점 (혹은 벡터) $x = [-1, 2]$를 $x$축 방향으로 $3$만큼 이동하고, $y$축 방향으로 $-2$만큼 이동한 후에, 반시계 방향으로 45도 회전시키고자 한다. 이 때, 이동 변환 행렬을 $A$, 회전 변환 행렬을 $B$라고 할 때, $x$를 이동한 후 회전하는 연산은 $BAx$로 표현할 수 있다. 아래 코드에서 행렬 $A$와 $B$를 구하자. $\\pi$는 `np.pi`, $\\cos(\\theta)$는 `np.cos(theta)`로, $\\sin(\\theta)$는 `np.sin(theta)`로 계산할 수 있다."
      ]
    },
    {
      "cell_type": "code",
      "execution_count": null,
      "metadata": {},
      "outputs": [],
      "source": [
        "# 이동 변환 행렬\n",
        "A = \n",
        "\n",
        "# 회전 변환 행렬\n",
        "theta = \n",
        "cos = \n",
        "sin = \n",
        "B = "
      ]
    },
    {
      "cell_type": "markdown",
      "metadata": {},
      "source": [
        "어파인 변환 행렬을 제대로 구했는지 확인하기 위해, 아래 두 코드 블락을 실행."
      ]
    },
    {
      "cell_type": "code",
      "execution_count": null,
      "metadata": {},
      "outputs": [],
      "source": [
        "# 어파인 변환을 수행하기 위해서는 2차원 벡터를 3차원 벡터로 확장해야함\n",
        "# [-1, 2, 1]에서 마지막 요소 1은 계산을 위한 더미값\n",
        "x = np.array([-1, 2, 1])\n",
        "\n",
        "# 행렬곱은 @ 기호로 계산\n",
        "# 이동 변환\n",
        "Ax = A @ x\n",
        "# 이동 변환 후 회전 변환\n",
        "BAx = B @ A @ x # 혹은 B @ Ax"
      ]
    },
    {
      "cell_type": "code",
      "execution_count": null,
      "metadata": {},
      "outputs": [],
      "source": [
        "import matplotlib.pyplot as plt\n",
        "\n",
        "# Plot vectors\n",
        "plt.quiver(0, 0, x[0], x[1], angles='xy', scale_units='xy', scale=1, color='r', label='x')\n",
        "plt.quiver(0, 0, Ax[0], Ax[1], angles='xy', scale_units='xy', scale=1, color='g', label='Ax')\n",
        "plt.quiver(0, 0, BAx[0], BAx[1], angles='xy', scale_units='xy', scale=1, color='b', label='BAx')\n",
        "\n",
        "# Add legend\n",
        "plt.legend()\n",
        "\n",
        "# Set plot limits and labels\n",
        "plt.xlim(-2, 3)\n",
        "plt.ylim(-1, 3)\n",
        "plt.xlabel('x-axis')\n",
        "plt.ylabel('y-axis')\n",
        "\n",
        "# Show plot with grid\n",
        "plt.grid(True)\n",
        "plt.show()"
      ]
    },
    {
      "cell_type": "markdown",
      "metadata": {},
      "source": [
        "## 3. Pandas"
      ]
    },
    {
      "cell_type": "code",
      "execution_count": 65,
      "metadata": {
        "colab": {
          "base_uri": "https://localhost:8080/"
        },
        "id": "e8MvYkBzDMqe",
        "outputId": "e26dea86-04d2-41b6-9d00-f87d38500c37"
      },
      "outputs": [
        {
          "data": {
            "text/html": [
              "<div>\n",
              "<style scoped>\n",
              "    .dataframe tbody tr th:only-of-type {\n",
              "        vertical-align: middle;\n",
              "    }\n",
              "\n",
              "    .dataframe tbody tr th {\n",
              "        vertical-align: top;\n",
              "    }\n",
              "\n",
              "    .dataframe thead th {\n",
              "        text-align: right;\n",
              "    }\n",
              "</style>\n",
              "<table border=\"1\" class=\"dataframe\">\n",
              "  <thead>\n",
              "    <tr style=\"text-align: right;\">\n",
              "      <th></th>\n",
              "      <th>Name</th>\n",
              "      <th>Age</th>\n",
              "      <th>City</th>\n",
              "    </tr>\n",
              "  </thead>\n",
              "  <tbody>\n",
              "    <tr>\n",
              "      <th>0</th>\n",
              "      <td>Alice</td>\n",
              "      <td>24</td>\n",
              "      <td>New York</td>\n",
              "    </tr>\n",
              "    <tr>\n",
              "      <th>1</th>\n",
              "      <td>Bob</td>\n",
              "      <td>27</td>\n",
              "      <td>Los Angeles</td>\n",
              "    </tr>\n",
              "    <tr>\n",
              "      <th>2</th>\n",
              "      <td>Charlie</td>\n",
              "      <td>22</td>\n",
              "      <td>Chicago</td>\n",
              "    </tr>\n",
              "    <tr>\n",
              "      <th>3</th>\n",
              "      <td>David</td>\n",
              "      <td>32</td>\n",
              "      <td>Houston</td>\n",
              "    </tr>\n",
              "  </tbody>\n",
              "</table>\n",
              "</div>"
            ],
            "text/plain": [
              "      Name  Age         City\n",
              "0    Alice   24     New York\n",
              "1      Bob   27  Los Angeles\n",
              "2  Charlie   22      Chicago\n",
              "3    David   32      Houston"
            ]
          },
          "execution_count": 65,
          "metadata": {},
          "output_type": "execute_result"
        }
      ],
      "source": [
        "import pandas as pd\n",
        "\n",
        "# 데이터프레임 생성\n",
        "data = {\n",
        "    'Name': ['Alice', 'Bob', 'Charlie', 'David'],\n",
        "    'Age': [24, 27, 22, 32],\n",
        "    'City': ['New York', 'Los Angeles', 'Chicago', 'Houston']\n",
        "}\n",
        "\n",
        "df = pd.DataFrame(data)\n",
        "df"
      ]
    },
    {
      "cell_type": "code",
      "execution_count": 66,
      "metadata": {
        "colab": {
          "base_uri": "https://localhost:8080/"
        },
        "id": "tODNY7UaDu0E",
        "outputId": "c9706a07-d9cd-4dca-e8d4-593f2fed56c1"
      },
      "outputs": [
        {
          "data": {
            "text/html": [
              "<div>\n",
              "<style scoped>\n",
              "    .dataframe tbody tr th:only-of-type {\n",
              "        vertical-align: middle;\n",
              "    }\n",
              "\n",
              "    .dataframe tbody tr th {\n",
              "        vertical-align: top;\n",
              "    }\n",
              "\n",
              "    .dataframe thead th {\n",
              "        text-align: right;\n",
              "    }\n",
              "</style>\n",
              "<table border=\"1\" class=\"dataframe\">\n",
              "  <thead>\n",
              "    <tr style=\"text-align: right;\">\n",
              "      <th></th>\n",
              "      <th>Age</th>\n",
              "    </tr>\n",
              "  </thead>\n",
              "  <tbody>\n",
              "    <tr>\n",
              "      <th>count</th>\n",
              "      <td>4.000000</td>\n",
              "    </tr>\n",
              "    <tr>\n",
              "      <th>mean</th>\n",
              "      <td>26.250000</td>\n",
              "    </tr>\n",
              "    <tr>\n",
              "      <th>std</th>\n",
              "      <td>4.349329</td>\n",
              "    </tr>\n",
              "    <tr>\n",
              "      <th>min</th>\n",
              "      <td>22.000000</td>\n",
              "    </tr>\n",
              "    <tr>\n",
              "      <th>25%</th>\n",
              "      <td>23.500000</td>\n",
              "    </tr>\n",
              "    <tr>\n",
              "      <th>50%</th>\n",
              "      <td>25.500000</td>\n",
              "    </tr>\n",
              "    <tr>\n",
              "      <th>75%</th>\n",
              "      <td>28.250000</td>\n",
              "    </tr>\n",
              "    <tr>\n",
              "      <th>max</th>\n",
              "      <td>32.000000</td>\n",
              "    </tr>\n",
              "  </tbody>\n",
              "</table>\n",
              "</div>"
            ],
            "text/plain": [
              "             Age\n",
              "count   4.000000\n",
              "mean   26.250000\n",
              "std     4.349329\n",
              "min    22.000000\n",
              "25%    23.500000\n",
              "50%    25.500000\n",
              "75%    28.250000\n",
              "max    32.000000"
            ]
          },
          "execution_count": 66,
          "metadata": {},
          "output_type": "execute_result"
        }
      ],
      "source": [
        "# 데이터프레임 정보 확인\n",
        "df.describe()"
      ]
    },
    {
      "cell_type": "code",
      "execution_count": 67,
      "metadata": {
        "colab": {
          "base_uri": "https://localhost:8080/"
        },
        "id": "9eWqgQ2DD40a",
        "outputId": "80981712-4306-4bf6-dbbf-734dd65fda81"
      },
      "outputs": [
        {
          "name": "stdout",
          "output_type": "stream",
          "text": [
            "<class 'pandas.core.frame.DataFrame'>\n",
            "RangeIndex: 4 entries, 0 to 3\n",
            "Data columns (total 3 columns):\n",
            " #   Column  Non-Null Count  Dtype \n",
            "---  ------  --------------  ----- \n",
            " 0   Name    4 non-null      object\n",
            " 1   Age     4 non-null      int64 \n",
            " 2   City    4 non-null      object\n",
            "dtypes: int64(1), object(2)\n",
            "memory usage: 228.0+ bytes\n"
          ]
        }
      ],
      "source": [
        "df.info()       # 데이터프레임 요약 정보 출력"
      ]
    },
    {
      "cell_type": "code",
      "execution_count": 68,
      "metadata": {
        "colab": {
          "base_uri": "https://localhost:8080/"
        },
        "id": "j_CrRmJ-D6uY",
        "outputId": "413a79bc-e03d-4c6a-e4ab-5b42a94b6862"
      },
      "outputs": [
        {
          "data": {
            "text/html": [
              "<div>\n",
              "<style scoped>\n",
              "    .dataframe tbody tr th:only-of-type {\n",
              "        vertical-align: middle;\n",
              "    }\n",
              "\n",
              "    .dataframe tbody tr th {\n",
              "        vertical-align: top;\n",
              "    }\n",
              "\n",
              "    .dataframe thead th {\n",
              "        text-align: right;\n",
              "    }\n",
              "</style>\n",
              "<table border=\"1\" class=\"dataframe\">\n",
              "  <thead>\n",
              "    <tr style=\"text-align: right;\">\n",
              "      <th></th>\n",
              "      <th>Name</th>\n",
              "      <th>Age</th>\n",
              "      <th>City</th>\n",
              "    </tr>\n",
              "  </thead>\n",
              "  <tbody>\n",
              "    <tr>\n",
              "      <th>0</th>\n",
              "      <td>Alice</td>\n",
              "      <td>24</td>\n",
              "      <td>New York</td>\n",
              "    </tr>\n",
              "    <tr>\n",
              "      <th>1</th>\n",
              "      <td>Bob</td>\n",
              "      <td>27</td>\n",
              "      <td>Los Angeles</td>\n",
              "    </tr>\n",
              "    <tr>\n",
              "      <th>2</th>\n",
              "      <td>Charlie</td>\n",
              "      <td>22</td>\n",
              "      <td>Chicago</td>\n",
              "    </tr>\n",
              "    <tr>\n",
              "      <th>3</th>\n",
              "      <td>David</td>\n",
              "      <td>32</td>\n",
              "      <td>Houston</td>\n",
              "    </tr>\n",
              "  </tbody>\n",
              "</table>\n",
              "</div>"
            ],
            "text/plain": [
              "      Name  Age         City\n",
              "0    Alice   24     New York\n",
              "1      Bob   27  Los Angeles\n",
              "2  Charlie   22      Chicago\n",
              "3    David   32      Houston"
            ]
          },
          "execution_count": 68,
          "metadata": {},
          "output_type": "execute_result"
        }
      ],
      "source": [
        "df.head()       # 처음 5개 행 출력"
      ]
    },
    {
      "cell_type": "markdown",
      "metadata": {},
      "source": [
        "### 실습문제 3"
      ]
    },
    {
      "cell_type": "markdown",
      "metadata": {},
      "source": [
        "아래와 같은 키와 몸무게 데이터가 있다:\n",
        "\n",
        "| Name | Height | Weight |\n",
        "|------|--------|--------|\n",
        "| A    | 180    | 70     |\n",
        "| B    | 160    | 50     |\n",
        "| C    | 175    | 65     |\n",
        "| D    | 165    | 55     |\n",
        "| E    | 170    | 60     |\n",
        "| F    | 155    | 45     |\n",
        "\n",
        "아래 코드에서 데이터프레임을 생성하고, `df.describe()`를 사용해 각 열의 통계량을 출력하자."
      ]
    },
    {
      "cell_type": "code",
      "execution_count": null,
      "metadata": {},
      "outputs": [],
      "source": [
        "# 데이터 정의\n",
        "data = {\n",
        "    \"Name\": [],\n",
        "    \"Height\": [],\n",
        "    \"Weight\": []\n",
        "}\n",
        "\n",
        "# 데이터프레임 생성\n",
        "df = \n",
        "# 통계량 출력\n",
        "df."
      ]
    },
    {
      "cell_type": "markdown",
      "metadata": {},
      "source": [
        "## 4. Matplotlib"
      ]
    },
    {
      "cell_type": "code",
      "execution_count": 69,
      "metadata": {
        "colab": {
          "base_uri": "https://localhost:8080/",
          "height": 430
        },
        "id": "asRpWxK9F_ZX",
        "outputId": "5ca608e0-cee2-4e7f-dc26-229f12ec8113"
      },
      "outputs": [
        {
          "data": {
            "image/png": "[encoded data removed]",
            "text/plain": [
              "<Figure size 640x480 with 1 Axes>"
            ]
          },
          "metadata": {},
          "output_type": "display_data"
        }
      ],
      "source": [
        "import numpy as np\n",
        "import matplotlib.pyplot as plt\n",
        "x=[0,1,2,3]\n",
        "y=[0,1,4,9]\n",
        "plt.plot(x,y)\n",
        "plt.show()"
      ]
    },
    {
      "cell_type": "code",
      "execution_count": 70,
      "metadata": {
        "colab": {
          "base_uri": "https://localhost:8080/",
          "height": 430
        },
        "id": "vYZygMp2JNho",
        "outputId": "d313dce4-45c7-4cb2-b0c0-5a419096de25"
      },
      "outputs": [
        {
          "data": {
            "image/png": "[encoded data removed]",
            "text/plain": [
              "<Figure size 640x480 with 1 Axes>"
            ]
          },
          "metadata": {},
          "output_type": "display_data"
        }
      ],
      "source": [
        "import numpy as np\n",
        "import matplotlib.pyplot as plt\n",
        "x=np.linspace(-5,5,100)\n",
        "plt.plot(x,x**2)\n",
        "plt.show()"
      ]
    },
    {
      "cell_type": "markdown",
      "metadata": {},
      "source": [
        "### 실습문제 4"
      ]
    },
    {
      "cell_type": "markdown",
      "metadata": {},
      "source": [
        "아래 두 함수가 있다:\n",
        "\n",
        "$$\n",
        "\\begin{align*}\n",
        "y_1 = \\sin(x) \\\\\n",
        "y_2 = \\cos(x)\n",
        "\\end{align*}\n",
        "$$\n",
        "\n",
        "$x$가 $0$부터 $2\\pi$까지 변할 때, $y_1$과 $y_2$의 그래프를 그리자. 이 때, 두 함수를 동시에 그리기 위해서는 `plt.plot()`을 두 번 사용 후 `plt.show()`를 호출하면 된다. $\\pi$는 `np.pi`, $\\sin(x)$는 `np.sin(x)`, $\\cos(x)$는 `np.cos(x)`로 계산할 수 있다."
      ]
    },
    {
      "cell_type": "code",
      "execution_count": null,
      "metadata": {},
      "outputs": [],
      "source": [
        "# x값\n",
        "x = \n",
        "# sin/cos 함수 계산\n",
        "y1 = \n",
        "y2 = \n",
        "\n",
        "# 그래프 그리기\n",
        "plt.plot(, label='sin') # sin 함수 그리기\n",
        "plt.plot(, label='cos') # cos 함수 그리기\n",
        "plt.legend()\n",
        "plt.show()"
      ]
    }
  ],
  "metadata": {
    "colab": {
      "provenance": []
    },
    "kernelspec": {
      "display_name": "Python 3",
      "name": "python3"
    },
    "language_info": {
      "codemirror_mode": {
        "name": "ipython",
        "version": 3
      },
      "file_extension": ".py",
      "mimetype": "text/x-python",
      "name": "python",
      "nbconvert_exporter": "python",
      "pygments_lexer": "ipython3",
      "version": "3.1.-1"
    }
  },
  "nbformat": 4,
  "nbformat_minor": 0
}

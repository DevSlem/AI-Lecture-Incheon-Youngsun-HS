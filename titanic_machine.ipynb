{
  "cells": [
    {
      "cell_type": "code",
      "execution_count": null,
      "metadata": {},
      "outputs": [],
      "source": [
        "# environment setup\n",
        "try:\n",
        "    import google.colab\n",
        "    !git clone https://github.com/DevSlem/AI-Lecture-Incheon-Youngsun-HS.git\n",
        "    %cd AI-Lecture-Incheon-Youngsun-HS\n",
        "except ImportError:\n",
        "    pass"
      ]
    },
    {
      "cell_type": "code",
      "execution_count": null,
      "metadata": {
        "id": "6EecH-qDf810"
      },
      "outputs": [],
      "source": [
        "import pandas as pd\n",
        "\n",
        "# Train 과 Test 데이터를 준비\n",
        "train_dt = pd.read_csv('data/train.csv')\n",
        "test_dt = pd. read_csv('data/test.csv')\n",
        "\n",
        "# 한번에 처리하기 위한 작업\n",
        "data_train_test = [train_dt, test_dt]"
      ]
    },
    {
      "cell_type": "code",
      "execution_count": null,
      "metadata": {
        "colab": {
          "base_uri": "https://localhost:8080/",
          "height": 206
        },
        "id": "tGz-sHHzgAE_",
        "outputId": "fd91d658-7fc8-48c2-dc66-faa0f5028e40"
      },
      "outputs": [],
      "source": [
        "# 정규식을 이용해 Title로 호칭 추출\n",
        "for data in data_train_test:\n",
        "    data['Title'] = data['Name'].str.extract('([A-Za-z]+)\\.', expand=False)\n",
        "\n",
        "train_dt.head()"
      ]
    },
    {
      "cell_type": "code",
      "execution_count": null,
      "metadata": {
        "colab": {
          "base_uri": "https://localhost:8080/",
          "height": 206
        },
        "id": "K7fd9_hKgCED",
        "outputId": "a2c51f50-7e2a-47ee-f45f-59e7bdf1d6e8"
      },
      "outputs": [],
      "source": [
        "# Title 매핑작업\n",
        "for data in data_train_test:\n",
        "    data['Title'] = data['Title'].replace(['Capt', 'Col', 'Countess', 'Dr', 'Jonkheer', 'Major', 'Rev', 'Sir'], 'Others')\n",
        "    data['Title'] = data['Title'].replace(['Mlle', 'Ms'], 'Miss')\n",
        "    data['Title'] = data['Title'].replace('Don', 'Mr')\n",
        "    data['Title'] = data['Title'].replace(['Mme', 'Lady', 'Dona'], 'Mrs')\n",
        "\n",
        "# Title 별 생존율\n",
        "train_dt[['Title', 'Survived']].groupby(['Title'], as_index=False).mean().sort_values(by='Survived', ascending=False)"
      ]
    },
    {
      "cell_type": "code",
      "execution_count": null,
      "metadata": {
        "colab": {
          "base_uri": "https://localhost:8080/",
          "height": 206
        },
        "id": "nAIv2lshgDNL",
        "outputId": "8096c1f1-1cf2-4c99-ffe6-c421be239514"
      },
      "outputs": [],
      "source": [
        "# Name 삭제\n",
        "for data in data_train_test:\n",
        "    data.drop('Name', inplace=True, axis=1)\n",
        "\n",
        "train_dt.head()"
      ]
    },
    {
      "cell_type": "code",
      "execution_count": null,
      "metadata": {
        "colab": {
          "base_uri": "https://localhost:8080/",
          "height": 206
        },
        "id": "yXf8BKFbgESV",
        "outputId": "a961c0c6-51d8-46ad-c5ce-a097cf2b758d"
      },
      "outputs": [],
      "source": [
        "# 변경할 값을 dir로 저장\n",
        "Title_mapping = {'Mr':0, 'Mrs':1, 'Miss':2, 'Master':3, 'Others':4}\n",
        "\n",
        "for data in data_train_test:\n",
        "    data['Title'] = data['Title'].map(Title_mapping).astype(int)\n",
        "\n",
        "train_dt.head()"
      ]
    },
    {
      "cell_type": "code",
      "execution_count": null,
      "metadata": {
        "colab": {
          "base_uri": "https://localhost:8080/"
        },
        "id": "P6L5p5mcgFm5",
        "outputId": "98688881-c318-4639-da90-e4a22b8e9773"
      },
      "outputs": [],
      "source": [
        "# Age 결측값에 Title별 나이의 평균값으로 변경\n",
        "for data in data_train_test:\n",
        "    data['Age'].fillna(data.groupby('Title')['Age'].transform('mean'), inplace=True)\n",
        "\n",
        "# 결측값 확인\n",
        "train_dt.info()\n",
        "print('-'*6)\n",
        "test_dt.info()"
      ]
    },
    {
      "cell_type": "code",
      "execution_count": null,
      "metadata": {
        "colab": {
          "base_uri": "https://localhost:8080/",
          "height": 206
        },
        "id": "kNTkcNpngG5B",
        "outputId": "e85c75b7-9e01-4a1a-e025-364ddea2a989"
      },
      "outputs": [],
      "source": [
        "# AgeRange에 N등분 한 범위를 넣어줍니다.\n",
        "train_dt['AgeRange'] = pd.cut(train_dt['Age'], 5)\n",
        "\n",
        "# AgeRange 의 값마다 생존율을 구합니다.\n",
        "train_dt[['AgeRange', 'Survived']].groupby(['AgeRange'], as_index=False).mean().sort_values(by='AgeRange', ascending=True)"
      ]
    },
    {
      "cell_type": "code",
      "execution_count": null,
      "metadata": {
        "colab": {
          "base_uri": "https://localhost:8080/",
          "height": 206
        },
        "id": "QJDjoB8FgIR_",
        "outputId": "d0e197d3-9745-4ba9-f389-fda8593b2720"
      },
      "outputs": [],
      "source": [
        "# AgeRange 범위 대로 값 변경\n",
        "for data in data_train_test:\n",
        "    data.loc[ data['Age'] <= 16, 'Age'] = 0\n",
        "    data.loc[(data['Age'] > 16) & (data['Age'] <= 32), 'Age'] = 1\n",
        "    data.loc[(data['Age'] > 32) & (data['Age'] <= 48), 'Age'] = 2\n",
        "    data.loc[(data['Age'] > 48) & (data['Age'] <= 64), 'Age'] = 3\n",
        "    data.loc[ data['Age'] > 64, 'Age'] = 4\n",
        "    # int 로 변경\n",
        "    data['Age'] = data['Age'].astype(int)\n",
        "\n",
        "train_dt.head()"
      ]
    },
    {
      "cell_type": "code",
      "execution_count": null,
      "metadata": {
        "colab": {
          "base_uri": "https://localhost:8080/",
          "height": 206
        },
        "id": "lUmUQ-lrgJgL",
        "outputId": "46178f36-6639-414d-9774-43663b56ea84"
      },
      "outputs": [],
      "source": [
        "# AgeRange 삭제\n",
        "train_dt.drop('AgeRange', inplace=True, axis=1)\n",
        "\n",
        "train_dt.head()"
      ]
    },
    {
      "cell_type": "code",
      "execution_count": null,
      "metadata": {
        "colab": {
          "base_uri": "https://localhost:8080/",
          "height": 206
        },
        "id": "G1sooAmwgKqw",
        "outputId": "21f3abfd-8834-4510-b0ee-06a716f5e146"
      },
      "outputs": [],
      "source": [
        "# SibSp + Parch + 1 로 Familysize 생성\n",
        "for data in data_train_test:\n",
        "    data['Familysize'] = data['SibSp'] + data['Parch'] + 1\n",
        "\n",
        "train_dt.head()"
      ]
    },
    {
      "cell_type": "code",
      "execution_count": null,
      "metadata": {
        "colab": {
          "base_uri": "https://localhost:8080/",
          "height": 206
        },
        "id": "_rYl2zk6gLyk",
        "outputId": "5c383b5d-c698-4a0d-941f-5890e60ffed0"
      },
      "outputs": [],
      "source": [
        "# 삭제할 Feature\n",
        "drop_feature = ['SibSp', 'Parch']\n",
        "\n",
        "for data in data_train_test:\n",
        "    data.drop(drop_feature, inplace=True, axis=1)\n",
        "\n",
        "train_dt.head()"
      ]
    },
    {
      "cell_type": "code",
      "execution_count": null,
      "metadata": {
        "colab": {
          "base_uri": "https://localhost:8080/",
          "height": 206
        },
        "id": "6jwLonolgNMY",
        "outputId": "43649939-86c1-4834-ec77-479b36308d92"
      },
      "outputs": [],
      "source": [
        "# int type 의 숫자 0과 1로 매핑\n",
        "for data in data_train_test:\n",
        "    data['Sex'] = data['Sex'].map({'male':0, 'female':1}).astype(int)\n",
        "\n",
        "train_dt.head()"
      ]
    },
    {
      "cell_type": "code",
      "execution_count": null,
      "metadata": {
        "colab": {
          "base_uri": "https://localhost:8080/"
        },
        "id": "d7n0GzuzgOtH",
        "outputId": "9f840308-f2c0-49f0-f3b9-51a762cef780"
      },
      "outputs": [],
      "source": [
        "# Embarked 결측값에 S 삽입\n",
        "train_dt['Embarked'].fillna('S', inplace=True)\n",
        "\n",
        "# Embarked 결측값 개수\n",
        "print('결측값의 개수 :',train_dt['Embarked'].isnull().sum())"
      ]
    },
    {
      "cell_type": "code",
      "execution_count": null,
      "metadata": {
        "colab": {
          "base_uri": "https://localhost:8080/",
          "height": 206
        },
        "id": "Q92wCXvDgP8d",
        "outputId": "e0250fe5-e691-43e8-8906-2cd92b7a36eb"
      },
      "outputs": [],
      "source": [
        "# 변경할 값을 dir에 저장\n",
        "embarked_mapping = {'S':0, 'C':1, 'Q':2}\n",
        "\n",
        "for data in data_train_test:\n",
        "    data['Embarked'] = data['Embarked'].map(embarked_mapping).astype(int)\n",
        "\n",
        "train_dt.head()"
      ]
    },
    {
      "cell_type": "code",
      "execution_count": null,
      "metadata": {
        "colab": {
          "base_uri": "https://localhost:8080/"
        },
        "id": "WFmXclLkgRBn",
        "outputId": "3281b6d4-7cc5-479c-d931-283737e140b2"
      },
      "outputs": [],
      "source": [
        "# Fare 결측값에 Pclass별 가격의 평균값으로 변경\n",
        "for data in data_train_test:\n",
        "    data['Fare'].fillna(data.groupby('Pclass')['Fare'].transform('mean'), inplace=True)\n",
        "\n",
        "# 결측값 확인\n",
        "train_dt.info()\n",
        "print('-'*40)\n",
        "test_dt.info()"
      ]
    },
    {
      "cell_type": "code",
      "execution_count": null,
      "metadata": {
        "colab": {
          "base_uri": "https://localhost:8080/",
          "height": 175
        },
        "id": "7Q3ihRWKgSgK",
        "outputId": "b20172de-ffd7-40e3-8357-bee9ffde1282"
      },
      "outputs": [],
      "source": [
        "# FareRange에 N등분 한 범위를 넣어줍니다.\n",
        "train_dt['FareRange'] = pd.cut(train_dt['Fare'], 4)\n",
        "\n",
        "# FareRange 의 값마다 생존율을 구합니다.\n",
        "train_dt[['FareRange', 'Survived']].groupby(['FareRange'], as_index=False).mean().sort_values(by='FareRange', ascending=True)"
      ]
    },
    {
      "cell_type": "code",
      "execution_count": null,
      "metadata": {
        "colab": {
          "base_uri": "https://localhost:8080/",
          "height": 206
        },
        "id": "lGZTnNKogTw5",
        "outputId": "341eef99-5efa-4c1d-d678-395d313c1166"
      },
      "outputs": [],
      "source": [
        "# FareRange 범위 대로 값 변경\n",
        "for data in data_train_test:\n",
        "    data.loc[ data['Fare'] <= 128, 'Fare'] = 0\n",
        "    data.loc[(data['Fare'] > 128) & (data['Fare'] <= 256), 'Fare'] = 1\n",
        "    data.loc[(data['Fare'] > 256) & (data['Fare'] <= 384), 'Fare'] = 2\n",
        "    data.loc[data['Fare'] > 384, 'Fare'] = 3\n",
        "    # int 로 변경\n",
        "    data['Fare'] = data['Fare'].astype(int)\n",
        "\n",
        "train_dt.head()"
      ]
    },
    {
      "cell_type": "code",
      "execution_count": null,
      "metadata": {
        "colab": {
          "base_uri": "https://localhost:8080/",
          "height": 206
        },
        "id": "4IxXk7-_gU7q",
        "outputId": "3de812d7-68cb-4449-d6fe-87b453571a16"
      },
      "outputs": [],
      "source": [
        "# 삭제할 Feature를 List에 저장\n",
        "data_drop = ['Ticket', 'Cabin', 'PassengerId']\n",
        "\n",
        "for data in data_train_test:\n",
        "    data.drop(data_drop, inplace=True, axis=1)\n",
        "\n",
        "train_dt.head()"
      ]
    },
    {
      "cell_type": "code",
      "execution_count": null,
      "metadata": {
        "id": "PKkS7EQ0gWFe"
      },
      "outputs": [],
      "source": [
        "# Title 에 One-Hot Encoding 진행\n",
        "train_dt = pd.get_dummies(train_dt, columns=['Title'], prefix='Title')\n",
        "test_dt = pd.get_dummies(test_dt, columns=['Title'], prefix='Title')"
      ]
    },
    {
      "cell_type": "code",
      "execution_count": null,
      "metadata": {
        "colab": {
          "base_uri": "https://localhost:8080/",
          "height": 206
        },
        "id": "5q-1Ho0BgXLG",
        "outputId": "3523fe3d-2b2d-4085-9112-16e47b791107"
      },
      "outputs": [],
      "source": [
        "# FareRange 제거\n",
        "train_dt.drop('FareRange', inplace=True, axis=1)\n",
        "\n",
        "train_dt.head()"
      ]
    },
    {
      "cell_type": "code",
      "execution_count": null,
      "metadata": {
        "id": "1lKQ0iml1xBP"
      },
      "outputs": [],
      "source": [
        "# 데이터 분리 준비\n",
        "from sklearn.model_selection import train_test_split\n",
        "# Train, Test, Target을 분리\n",
        "X_train = train_dt.drop('Survived', axis=1).values\n",
        "target_label = train_dt['Survived'].values\n",
        "X_test = test_dt.values\n",
        "\n",
        "# train_test_split 을 사용해 7:3의 비율로 train set과 validation set을 생성\n",
        "X_tr, X_vid, y_tr, y_vid = train_test_split(X_train, target_label, test_size=0.3, random_state=1230, shuffle=True)"
      ]
    },
    {
      "cell_type": "code",
      "execution_count": null,
      "metadata": {
        "colab": {
          "base_uri": "https://localhost:8080/",
          "height": 74
        },
        "id": "RgrXpNyofZ9I",
        "outputId": "669002ac-7278-4a7c-af96-abeebd8cf5fa"
      },
      "outputs": [],
      "source": [
        "# K-Fold를 위한 준비\n",
        "from sklearn.model_selection import KFold\n",
        "from sklearn.model_selection import cross_val_score\n",
        "# Import DecisionTreeClassifier\n",
        "from sklearn.tree import DecisionTreeClassifier\n",
        "# K = 10 의 K-Fold 설정\n",
        "kfold = KFold(n_splits=10)\n",
        "\n",
        "# Model 의 결과를 담을 List 생성\n",
        "mean = []\n",
        "accuracy = []\n",
        "std = []\n",
        "\n",
        "# 사용할 Model 명\n",
        "classifiers =   'Decision Tree',\n",
        "\n",
        "# 사용할 Model 설정\n",
        "models =  DecisionTreeClassifier()\n",
        "models.fit(X_tr, y_tr)\n"
      ]
    },
    {
      "cell_type": "code",
      "execution_count": null,
      "metadata": {
        "colab": {
          "base_uri": "https://localhost:8080/"
        },
        "id": "0G3ptYbFfgmx",
        "outputId": "b3c928c3-5cca-440f-b241-a6e4a87e594b"
      },
      "outputs": [],
      "source": [
        "import numpy as np\n",
        "# Model 적용\n",
        "cv_result = cross_val_score(models, X_train, target_label, cv = kfold, scoring='accuracy')\n",
        "print(cv_result)\n",
        "\n",
        "# 평균 accuracy\n",
        "print(\"Mean CV Accuracy: \", np.mean(cv_result))\n"
      ]
    }
  ],
  "metadata": {
    "colab": {
      "provenance": []
    },
    "kernelspec": {
      "display_name": "Python 3",
      "name": "python3"
    },
    "language_info": {
      "name": "python"
    }
  },
  "nbformat": 4,
  "nbformat_minor": 0
}
